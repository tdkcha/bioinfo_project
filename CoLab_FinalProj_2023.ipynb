{
 "cells": [
  {
   "cell_type": "code",
   "execution_count": 2,
   "metadata": {},
   "outputs": [
    {
     "name": "stdout",
     "output_type": "stream",
     "text": [
      "/storage/home/tdkcha/bi_practice1/pro1/binfo1-work\n"
     ]
    }
   ],
   "source": [
    "%cd ~/bi_practice1/pro1//binfo1-work/"
   ]
  },
  {
   "cell_type": "code",
   "execution_count": null,
   "metadata": {},
   "outputs": [],
   "source": [
    "# BAM -> pileup\n",
    "!samtools mpileup CLIP-35L33G.bam > CLIP-35L33G.pileup\n",
    "# filtering (read counts)\n",
    "!cat CLIP-35L33G.pileup | awk '$4 > 50{print$0}' > filtered_CLIP-35L33G.pileup"
   ]
  },
  {
   "cell_type": "code",
   "execution_count": null,
   "metadata": {},
   "outputs": [],
   "source": [
    "import pandas as pd\n",
    "import re\n",
    "import numpy as np\n",
    "from Bio import SeqIO\n",
    "from collections import Counter\n",
    "\n",
    "# Define patterns to be removed\n",
    "patterns = {\n",
    "    \"common\": re.compile('[<>$*#\\-\\+\\d]'),\n",
    "    \"start_of_read\": re.compile('\\^.'),\n",
    "    \"lower_bases\": re.compile('[acgtnN]'),\n",
    "    \"upper_bases\": re.compile('[ACGTnN]')\n",
    "}"
   ]
  },
  {
   "cell_type": "code",
   "execution_count": null,
   "metadata": {},
   "outputs": [],
   "source": [
    "# Calculate entropy\n",
    "def cal_SE(dna_sequence):\n",
    "    bases, counts = np.unique(list(dna_sequence), return_counts=True)\n",
    "    probabilities = counts / counts.sum()\n",
    "    entropy_value = -np.sum(probabilities * np.log2(probabilities))\n",
    "    return entropy_value"
   ]
  },
  {
   "cell_type": "code",
   "execution_count": null,
   "metadata": {},
   "outputs": [],
   "source": [
    "# Read the file\n",
    "filtered_data = pd.read_csv('CLIP-35L33G_filtered.pileup', sep='\\t', names=['chrom', 'pos', '_ref', 'count', 'basereads', 'quals'])\n",
    "\n",
    "# Filter based on chromosome name\n",
    "filtered_data = filtered_data[filtered_data['chrom'].str.startswith(\"chr\")].copy()\n",
    "\n",
    "# Remove unwanted characters\n",
    "filtered_data['matches'] = filtered_data['basereads'].str.replace(patterns[\"common\"], '').str.replace(patterns[\"start_of_read\"], '')"
   ]
  },
  {
   "cell_type": "code",
   "execution_count": null,
   "metadata": {},
   "outputs": [],
   "source": [
    "# Duplicate matches column to differentiate between plus and minus strands\n",
    "filtered_data = filtered_data.assign(plus_strand=filtered_data['matches'], minus_strand=filtered_data['matches'])\n",
    "\n",
    "# Remove bases in each template\n",
    "filtered_data['plus_strand'] = filtered_data['plus_strand'].str.replace(patterns[\"lower_bases\"], '')\n",
    "filtered_data['minus_strand'] = filtered_data['minus_strand'].str.replace(patterns[\"upper_bases\"], '')"
   ]
  },
  {
   "cell_type": "code",
   "execution_count": null,
   "metadata": {},
   "outputs": [],
   "source": [
    "# Calculate entropy\n",
    "filtered_data['plus_entropy'] = filtered_data['plus_strand'].map(cal_SE)\n",
    "filtered_data['minus_entropy'] = filtered_data['minus_strand'].map(cal_SE)\n",
    "\n",
    "# Apply filtering\n",
    "p_fil_stand = (filtered_data['plus_strand'].str.len() > 50) & (filtered_data['plus_entropy'] > 0.8)\n",
    "m_fil_stand = (filtered_data['minus_strand'].str.len() > 50) & (filtered_data['minus_entropy'] > 0.8)"
   ]
  },
  {
   "cell_type": "code",
   "execution_count": null,
   "metadata": {},
   "outputs": [],
   "source": [
    "SE_p = filtered_data[p_fil_stand][['chrom','pos']]\n",
    "SE_p = SE_p[SE_p['chrom'] != \"chrM\"]\n",
    "\n",
    "SE_m = filtered_data[m_fil_stand][['chrom','pos']]\n",
    "SE_m = SE_m[SE_m['chrom'] != \"chrM\"]"
   ]
  },
  {
   "cell_type": "code",
   "execution_count": 21,
   "metadata": {},
   "outputs": [
    {
     "name": "stdout",
     "output_type": "stream",
     "text": [
      "/storage/home/tdkcha/bi_practice1/pro1/binfo1-work/Ref\n"
     ]
    }
   ],
   "source": [
    "%cd ~/bi_practice1/pro1//binfo1-work/Ref\n",
    "!gunzip *.fa.gz\n",
    "!cat *.fa > mm39.fa"
   ]
  },
  {
   "cell_type": "code",
   "execution_count": 34,
   "metadata": {},
   "outputs": [
    {
     "name": "stdout",
     "output_type": "stream",
     "text": [
      "/storage/home/tdkcha/bi_practice1/pro1/binfo1-work\n"
     ]
    }
   ],
   "source": [
    "%cd ~/bi_practice1/pro1//binfo1-work/"
   ]
  },
  {
   "cell_type": "code",
   "execution_count": null,
   "metadata": {},
   "outputs": [],
   "source": [
    "ref_gen = SeqIO.to_dict(SeqIO.parse(\"/Ref/mm39.fa\", \"fasta\"))"
   ]
  },
  {
   "cell_type": "code",
   "execution_count": null,
   "metadata": {},
   "outputs": [],
   "source": [
    "p_motifs = []\n",
    "m_motifs = []\n",
    "\n",
    "for _, row in SE_p.iterrows():\n",
    "    full_seq = str(ref_gen[row['chrom']].seq[(row['pos']-11):(row['pos']+10)]) \n",
    "    hexamer = full_seq[8:14] # Extract hexamer\n",
    "    p_motifs.append(hexamer)\n",
    "\n",
    "for _, row in SE_m.iterrows():\n",
    "    full_seq = str(ref_gen[row['chrom']].seq[(row['pos']-11):(row['pos']+10)].reverse_complement())\n",
    "    hexamer = full_seq[8:14] # Extract hexamer\n",
    "    m_motifs.append(hexamer)"
   ]
  },
  {
   "cell_type": "code",
   "execution_count": null,
   "metadata": {},
   "outputs": [],
   "source": [
    "motifs = p_motifs + m_motifs\n",
    "motif_counter = Counter(motifs)\n",
    "\n",
    "sorted_motif_counter = sorted(motif_counter.items(), key=lambda x: x[1], reverse=True)\n",
    "\n",
    "with open(\"/WebLogo_Input.txt\", 'w') as f:\n",
    "    for item in sorted_motif_counter:\n",
    "        for _ in range(item[1]):  \n",
    "            f.write(f\"{item[0]}\\n\")"
   ]
  },
  {
   "cell_type": "code",
   "execution_count": null,
   "metadata": {},
   "outputs": [],
   "source": [
    "###Base probability###\n",
    "p_motifs = []\n",
    "m_motifs = []\n",
    "\n",
    "# 추출할 시퀀스의 길이는 -10부터 +10까지의 전체 21개 위치이므로, 인덱스 범위를 조정\n",
    "for _, row in SE_p.iterrows():\n",
    "    full_seq = str(ref_gen[row['chrom']].seq[(row['pos']-10):(row['pos']+10)])\n",
    "    p_motifs.append(full_seq)\n",
    "\n",
    "for _, row in SE_m.iterrows():\n",
    "    full_seq = str(ref_gen[row['chrom']].seq[(row['pos']-10):(row['pos']+10)].reverse_complement())\n",
    "    m_motifs.append(full_seq)\n",
    "\n",
    "p_motifs = [motif.replace('T', 'U') for motif in p_motifs]\n",
    "m_motifs = [motif.replace('T', 'U') for motif in m_motifs]"
   ]
  },
  {
   "cell_type": "code",
   "execution_count": null,
   "metadata": {},
   "outputs": [],
   "source": [
    "# 플러스 및 마이너스 시퀀스를 합쳐 전체 모티프 리스트 만듬\n",
    "total_motifs = p_motifs + m_motifs\n",
    "\n",
    "# 합친 시퀀스를 텍스트 파일에 저장\n",
    "with open( \"/WebLogo_FullMotifs.txt\", 'w') as f:\n",
    "    for item in total_motifs:\n",
    "        f.write(\"%s\\n\" % item)"
   ]
  }
 ],
 "metadata": {
  "kernelspec": {
   "display_name": "binfo",
   "language": "python",
   "name": "python3"
  },
  "language_info": {
   "codemirror_mode": {
    "name": "ipython",
    "version": 3
   },
   "file_extension": ".py",
   "mimetype": "text/x-python",
   "name": "python",
   "nbconvert_exporter": "python",
   "pygments_lexer": "ipython3",
   "version": "3.10.7"
  },
  "orig_nbformat": 4
 },
 "nbformat": 4,
 "nbformat_minor": 2
}
